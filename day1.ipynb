{
 "cells": [
  {
   "cell_type": "markdown",
   "metadata": {},
   "source": [
    "Day-3"
   ]
  },
  {
   "cell_type": "code",
   "execution_count": null,
   "metadata": {},
   "outputs": [
    {
     "name": "stdout",
     "output_type": "stream",
     "text": [
      "Addition of 2 numbers 15\n",
      "Subtraction of 2 numbers 5\n",
      "Multiplication of 2 numbers 50\n"
     ]
    }
   ],
   "source": [
    "def add(x,y):\n",
    "    z = x +y\n",
    "    return z\n",
    "def sub(x,y):\n",
    "    z = x - y\n",
    "    return z\n",
    "def multi(x,y):\n",
    "    z = x * y\n",
    "    return z\n",
    "\n",
    "result = add(5,10)\n",
    "print('Addition of 2 numbers',+ result)\n",
    "result = sub(15,10)\n",
    "print('Subtraction of 2 numbers',+ result)\n",
    "result = multi(5,10)\n",
    "print('Multiplication of 2 numbers',+ result)"
   ]
  },
  {
   "cell_type": "code",
   "execution_count": null,
   "metadata": {},
   "outputs": [],
   "source": []
  },
  {
   "cell_type": "code",
   "execution_count": 9,
   "metadata": {},
   "outputs": [
    {
     "name": "stdout",
     "output_type": "stream",
     "text": [
      "Wish u Happy Birthday Ammu\n",
      "Be Happy Ammu\n",
      "Wish u Happy Birthday Srujan\n",
      "Be Happy Srujan\n",
      "My name is ShanksShaks\n"
     ]
    }
   ],
   "source": [
    "def happy(name):\n",
    "    print(f\"Wish u Happy Birthday {name}\")\n",
    "    print(f\"Be Happy {name}\")\n",
    "happy(\"Ammu\")\n",
    "happy(\"Srujan\")\n",
    "\n",
    "def concat(a,b)->str:\n",
    "    return a + b\n",
    "print(f\"My name is {concat(\"Shanks\",\"Shaks\")}\")\n"
   ]
  },
  {
   "cell_type": "code",
   "execution_count": 15,
   "metadata": {},
   "outputs": [
    {
     "name": "stdout",
     "output_type": "stream",
     "text": [
      "Hello Shashank 😎\n",
      "Your Bill of Rs 500.0 is due: 01/25📄\n",
      "Pay the Bill..🧑🏻‍💻\n"
     ]
    }
   ],
   "source": [
    "def display(username,amount,due_date):\n",
    "    print(f\"Hello {username} 😎\")\n",
    "    print(f\"Your Bill of Rs {amount} is due: {due_date}📄\")\n",
    "    print(\"Pay the Bill..🧑🏻‍💻\")\n",
    "display(\"Shashank\",500.00,\"01/25\")"
   ]
  },
  {
   "cell_type": "code",
   "execution_count": 1,
   "metadata": {},
   "outputs": [
    {
     "name": "stdout",
     "output_type": "stream",
     "text": [
      "BLENDER SPRIT\n"
     ]
    }
   ],
   "source": [
    "def letters(first,second):\n",
    "    first = first.upper()\n",
    "    second = second.upper()\n",
    "    return first + \" \" + second\n",
    "name = letters(\"blender\",\"sprit\")\n",
    "print(name)"
   ]
  }
 ],
 "metadata": {
  "kernelspec": {
   "display_name": "Python 3",
   "language": "python",
   "name": "python3"
  },
  "language_info": {
   "codemirror_mode": {
    "name": "ipython",
    "version": 3
   },
   "file_extension": ".py",
   "mimetype": "text/x-python",
   "name": "python",
   "nbconvert_exporter": "python",
   "pygments_lexer": "ipython3",
   "version": "3.12.4"
  }
 },
 "nbformat": 4,
 "nbformat_minor": 2
}
