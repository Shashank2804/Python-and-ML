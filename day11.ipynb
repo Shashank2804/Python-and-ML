{
 "cells": [
  {
   "cell_type": "markdown",
   "metadata": {},
   "source": [
    "### File I/O\n",
    "\n",
    "File I/O in Python allows us to read from and write to the files, making it easy to store and retrieve data from the files. Python provides built-in functions for file I/O.\n",
    "Some of the functions are:\n",
    "- open()\n",
    "- read()\n",
    "- write()\n",
    "- close()"
   ]
  },
  {
   "cell_type": "code",
   "execution_count": 2,
   "metadata": {},
   "outputs": [],
   "source": [
    "with open(\"example.txt\", \"w\") as file:\n",
    "    file.write(\"Hello, world!\\n\")\n",
    "    file.write(\"This is a new line.\")"
   ]
  },
  {
   "cell_type": "code",
   "execution_count": 4,
   "metadata": {},
   "outputs": [
    {
     "name": "stdout",
     "output_type": "stream",
     "text": [
      "Hello, world!\n",
      "This is a new line.\n",
      "['Hello, world!', 'This is a new line.']\n"
     ]
    }
   ],
   "source": [
    "with open(\"example.txt\", \"r\") as file:\n",
    "    contents = file.read()\n",
    "    print(contents)\n",
    "    print(contents.splitlines()) "
   ]
  },
  {
   "cell_type": "code",
   "execution_count": 19,
   "metadata": {},
   "outputs": [
    {
     "name": "stdout",
     "output_type": "stream",
     "text": [
      "Hello, world!\n",
      "\n",
      "This is a new line.\n",
      "\n",
      "This is a another line appended to the file.\n",
      "\n",
      "This is a another line appended to the file.I'm Shashank, and I'm writing this line to the file.I'm Shashank, and I'm writing this line to the file.\n",
      "\n",
      "This is a another line appended to the file.\n"
     ]
    }
   ],
   "source": [
    "with open(\"example.txt\", \"r\") as file:\n",
    "    for line in file:\n",
    "        if line == \"\\n\":\n",
    "            continue\n",
    "        print(line)"
   ]
  },
  {
   "cell_type": "code",
   "execution_count": 17,
   "metadata": {},
   "outputs": [
    {
     "name": "stdout",
     "output_type": "stream",
     "text": [
      "['Hello,', 'world!\\nThis', 'is', 'a', 'new', 'line.\\nThis', 'is', 'a', 'another', 'line', 'appended', 'to', 'the', 'file.\\nThis', 'is', 'a', 'another', 'line', 'appended', 'to', 'the', \"file.I'm\", 'Shashank,', 'and', \"I'm\", 'writing', 'this', 'line', 'to', 'the', \"file.I'm\", 'Shashank,', 'and', \"I'm\", 'writing', 'this', 'line', 'to', 'the', 'file.\\nThis', 'is', 'a', 'another', 'line', 'appended', 'to', 'the', 'file.']\n"
     ]
    }
   ],
   "source": [
    "with open(\"example.txt\", \"a\") as file:\n",
    "    file.write(\"\\nThis is a another line appended to the file.\")\n",
    "\n",
    "with open(\"example.txt\", \"r\") as file:\n",
    "    contents = file.read()\n",
    "    print(contents.split(\" \"))"
   ]
  },
  {
   "cell_type": "code",
   "execution_count": 21,
   "metadata": {},
   "outputs": [
    {
     "name": "stdout",
     "output_type": "stream",
     "text": [
      "Hello, world!\n",
      "This is a new line.\n",
      "This is a another line appended to the file.\n",
      "This is a another line appended to the file.I'm Shashank, and I'm writing this line to the file.I'm Shashank, and I'm writing this line to the file.\n",
      "This is a another line appended to the file.I'm Shashank, and I'm writing this line to the file.\n"
     ]
    }
   ],
   "source": [
    "with open(\"example.txt\", \"r+\") as file:\n",
    "    contents = file.read()\n",
    "    file.write(\"I'm Shashank, and I'm writing this line to the file.\")\n",
    "\n",
    "print(contents)"
   ]
  },
  {
   "cell_type": "code",
   "execution_count": null,
   "metadata": {},
   "outputs": [
    {
     "name": "stdout",
     "output_type": "stream",
     "text": [
      "4.0\n",
      "3.141592653589793\n",
      "2.718281828459045\n",
      "inf\n",
      "-inf\n",
      "4\n",
      "3\n",
      "1.0\n",
      "6.123233995736766e-17\n"
     ]
    }
   ],
   "source": [
    "import math\n",
    "\n",
    "print(math.sqrt(16))\n",
    "print(math.pi)\n",
    "print(math.e)\n",
    "print(math.inf)\n",
    "print(-math.inf)\n",
    "print(math.ceil(math.pi))\n",
    "print(math.floor(math.pi))\n",
    "print(math.sin(math.pi/2))\n",
    "print(math.cos(math.pi/2))\n",
    "print(math.log(math.e))\n",
    "print(math.log(100, 10))"
   ]
  },
  {
   "cell_type": "code",
   "execution_count": 30,
   "metadata": {},
   "outputs": [
    {
     "name": "stdout",
     "output_type": "stream",
     "text": [
      "Current date and time: 2025-03-06 10:36:08.712598\n",
      "Current year: 2025\n",
      "Current month: 3\n",
      "Current day: 6\n",
      "Current hour: 10\n",
      "Current minute: 36\n",
      "Current second: 8\n",
      "Current microsecond: 712598\n"
     ]
    }
   ],
   "source": [
    "from datetime import datetime\n",
    "\n",
    "now = datetime.now()\n",
    "print(\"Current date and time:\", now)\n",
    "print(\"Current year:\", now.year)\n",
    "print(\"Current month:\", now.month)\n",
    "print(\"Current day:\", now.day)\n",
    "print(\"Current hour:\", now.hour)\n",
    "print(\"Current minute:\", now.minute)\n",
    "print(\"Current second:\", now.second)\n",
    "print(\"Current microsecond:\", now.microsecond)"
   ]
  },
  {
   "cell_type": "code",
   "execution_count": 10,
   "metadata": {},
   "outputs": [
    {
     "name": "stdout",
     "output_type": "stream",
     "text": [
      "92.38661820468933\n",
      "9\n",
      "banana\n"
     ]
    }
   ],
   "source": [
    "import random\n",
    "\n",
    "print(random.random()*100)\n",
    "print(random.randint(1, 10))\n",
    "print(random.choice(['apple', 'banana', 'cherry', 'date']))"
   ]
  },
  {
   "cell_type": "code",
   "execution_count": 5,
   "metadata": {},
   "outputs": [
    {
     "name": "stdout",
     "output_type": "stream",
     "text": [
      "Current Working Directory:  d:\\Print(Python)\\Python\n",
      "['day1.ipynb', 'day11.ipynb', 'day4.ipynb', 'day5.ipynb', 'day6and7(oops).ipynb', 'day8.ipynb', 'day9and10.ipynb', 'example.txt']\n"
     ]
    }
   ],
   "source": [
    "import os\n",
    "\n",
    "print(\"Current Working Directory: \",os.getcwd())\n",
    "print(os.listdir())\n",
    "#os.mkdir(\"Test\")\n",
    "#os.chdir(\"Test\")\n",
    "\n",
    "#print(\"Current Working Directory: \",os.getcwd())\n",
    "\n",
    "#with open(\"text.txt\", \"w\") as file:\n",
    "    #file.write(\"This is a text file.\")\n"
   ]
  },
  {
   "cell_type": "code",
   "execution_count": 4,
   "metadata": {},
   "outputs": [
    {
     "name": "stdout",
     "output_type": "stream",
     "text": [
      "[1 2 3 4]\n",
      "<class 'numpy.ndarray'>\n",
      "2.5\n"
     ]
    }
   ],
   "source": [
    "import numpy as np\n",
    "\n",
    "arr = np.array([1, 2, 3, 4])\n",
    "print(arr)\n",
    "print(type(arr))\n",
    "print(np.mean(arr))"
   ]
  },
  {
   "cell_type": "code",
   "execution_count": null,
   "metadata": {},
   "outputs": [
    {
     "name": "stdout",
     "output_type": "stream",
     "text": [
      "Welcome to the Number Guessing Game!\n",
      "I have selected a number between 1 and 100. Try to guess it.\n",
      "\n"
     ]
    }
   ],
   "source": [
    "import random\n",
    "\n",
    "# Outer loop to handle replaying the game\n",
    "play_again = True\n",
    "while play_again:\n",
    "    # Generate a random number between 1 and 100\n",
    "    target_number = random.randint(1, 100)\n",
    "    attempts = 0\n",
    "    guessed_correctly = False\n",
    "    \n",
    "    print(\"Welcome to the Number Guessing Game!\")\n",
    "    print(\"I have selected a number between 1 and 100. Try to guess it.\\n\")\n",
    "\n",
    "    # Main game loop\n",
    "    while not guessed_correctly:\n",
    "        user_input = input(\"Enter your guess: \")\n",
    "        \n",
    "        # Validate input is a number between 1-100\n",
    "        try:\n",
    "            guess = int(user_input)\n",
    "            if guess < 1 or guess > 100:\n",
    "                print(\"Please enter a number between 1 and 100.\")\n",
    "                continue\n",
    "        except ValueError:\n",
    "            print(\"Invalid input. Please enter a number between 1 and 100.\")\n",
    "            continue\n",
    "        \n",
    "        # Valid guess - increment attempt counter\n",
    "        attempts += 1\n",
    "        \n",
    "        # Check guess against target number\n",
    "        if guess < target_number:\n",
    "            print(\"Too low! Try again.\")\n",
    "        elif guess > target_number:\n",
    "            print(\"Too high! Try again.\")\n",
    "        else:\n",
    "            print(f\"\\nCongratulations! You guessed the number correctly in {attempts} attempts.\")\n",
    "            guessed_correctly = True\n",
    "    \n",
    "    # Ask user if they want to play again\n",
    "    replay_choice = input(\"\\nDo you want to play again? (y/n): \").lower()\n",
    "    if replay_choice != 'y':\n",
    "        play_again = False\n",
    "    print()  # Add space between games\n",
    "\n",
    "print(\"Thank you for playing! Goodbye!\")"
   ]
  },
  {
   "cell_type": "code",
   "execution_count": null,
   "metadata": {},
   "outputs": [],
   "source": []
  }
 ],
 "metadata": {
  "kernelspec": {
   "display_name": "Python 3",
   "language": "python",
   "name": "python3"
  },
  "language_info": {
   "codemirror_mode": {
    "name": "ipython",
    "version": 3
   },
   "file_extension": ".py",
   "mimetype": "text/x-python",
   "name": "python",
   "nbconvert_exporter": "python",
   "pygments_lexer": "ipython3",
   "version": "3.12.4"
  }
 },
 "nbformat": 4,
 "nbformat_minor": 2
}
