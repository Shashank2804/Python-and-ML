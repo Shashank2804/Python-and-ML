{
 "cells": [
  {
   "cell_type": "markdown",
   "metadata": {},
   "source": [
    "# Error handling in Python\n",
    "\n",
    "Error handling is essential to make programs more robust. \n",
    "In Python, errors are handled by using the `try` and `except` blocks. The `try` block contains the code that might raise an exception, and the `except` block contains the code that handles the exception."
   ]
  },
  {
   "cell_type": "code",
   "execution_count": null,
   "metadata": {},
   "outputs": [
    {
     "name": "stdout",
     "output_type": "stream",
     "text": [
      "Error: division by zero\n",
      "Finally block\n"
     ]
    }
   ],
   "source": [
    "a = 5\n",
    "b = 0\n",
    "\n",
    "try:\n",
    "    result = a / b\n",
    "except ZeroDivisionError as e:\n",
    "    print(f'Error: {e}')\n",
    "finally:\n",
    "    print('Finally block')"
   ]
  },
  {
   "cell_type": "code",
   "execution_count": 4,
   "metadata": {},
   "outputs": [
    {
     "name": "stdout",
     "output_type": "stream",
     "text": [
      "Hello, world!\n",
      "This is a new line.\n",
      "This is a another line appended to the file.\n",
      "This is a another line appended to the file.I'm Shashank, and I'm writing this line to the file.I'm Shashank, and I'm writing this line to the file.\n",
      "This is a another line appended to the file.I'm Shashank, and I'm writing this line to the file.I'm Shashank, and I'm writing this line to the file.\n",
      "Finally block\n"
     ]
    }
   ],
   "source": [
    "try:\n",
    "    with open('example.txt', 'r') as file:\n",
    "        content = file.read()\n",
    "        print(content)\n",
    "except FileNotFoundError as e:\n",
    "    print(f'Error: {e}')\n",
    "finally:\n",
    "    print('Finally block')"
   ]
  },
  {
   "cell_type": "code",
   "execution_count": 7,
   "metadata": {},
   "outputs": [
    {
     "name": "stdout",
     "output_type": "stream",
     "text": [
      "you entered: 45\n"
     ]
    }
   ],
   "source": [
    "try:\n",
    "    num = int(input(\"Enter a number: \"))\n",
    "    print(f\"you entered: {num}\")\n",
    "except ValueError as e:\n",
    "    print(f'Error: {e}')"
   ]
  },
  {
   "cell_type": "code",
   "execution_count": null,
   "metadata": {},
   "outputs": [
    {
     "name": "stdout",
     "output_type": "stream",
     "text": [
      "Hello, world!\n",
      "This is a new line.\n",
      "This is a another line appended to the file.Shashank, and I'm writing this line to the file.\n",
      "Closing the file\n"
     ]
    }
   ],
   "source": [
    "try:\n",
    "    file = open(\"e.txt\", \"r\")\n",
    "    content = file.read()\n",
    "    print(content)\n",
    "except FileNotFoundError as e:\n",
    "    print(f\"Error: {e}\")\n",
    "finally:\n",
    "    print(\"Closing the file\")\n",
    "    try:\n",
    "        file.close()\n",
    "    except NameError:\n",
    "        pass  # file is not defined"
   ]
  },
  {
   "cell_type": "code",
   "execution_count": 17,
   "metadata": {},
   "outputs": [
    {
     "name": "stdout",
     "output_type": "stream",
     "text": [
      "Error: Age must be at least 18\n"
     ]
    }
   ],
   "source": [
    "def check_age(age):\n",
    "    if age < 18:\n",
    "        raise ValueError(\"Age must be at least 18\")\n",
    "    return \"Age is valid\"\n",
    "\n",
    "try:\n",
    "    print(check_age(2))\n",
    "except ValueError as e:\n",
    "    print(f\"Error: {e}\")"
   ]
  }
 ],
 "metadata": {
  "kernelspec": {
   "display_name": "Python 3",
   "language": "python",
   "name": "python3"
  },
  "language_info": {
   "codemirror_mode": {
    "name": "ipython",
    "version": 3
   },
   "file_extension": ".py",
   "mimetype": "text/x-python",
   "name": "python",
   "nbconvert_exporter": "python",
   "pygments_lexer": "ipython3",
   "version": "3.12.4"
  }
 },
 "nbformat": 4,
 "nbformat_minor": 2
}
