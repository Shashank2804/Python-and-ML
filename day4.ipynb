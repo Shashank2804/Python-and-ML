{
 "cells": [
  {
   "cell_type": "markdown",
   "metadata": {},
   "source": [
    "Lists are the collections of items, which means items are stored in a specific order and acces through index positions.It is mutable means u can add , remove elements after list is created and heterogeneous.\n",
    "[] this is used for the list\n"
   ]
  },
  {
   "cell_type": "code",
   "execution_count": 36,
   "metadata": {},
   "outputs": [
    {
     "name": "stdout",
     "output_type": "stream",
     "text": [
      "My name is Amulya\n",
      "My name is Rishab\n"
     ]
    }
   ],
   "source": [
    "names = ['Amulya','Srujan','Shashank','Rishab']\n",
    "print(f\"My name is {names[0]}\")\n",
    "print(f\"My name is {names[-1]}\")"
   ]
  },
  {
   "cell_type": "code",
   "execution_count": 37,
   "metadata": {},
   "outputs": [
    {
     "name": "stdout",
     "output_type": "stream",
     "text": [
      "Middle Numbers: [30, 40, 50]\n",
      "Every Second Numbers: [10, 20, 30, 40, 50, 60]\n"
     ]
    }
   ],
   "source": [
    "numbers = [10,20,30,40,50,60]\n",
    "print(f\"Middle Numbers: {numbers[2:5]}\")\n",
    "print(f\"Every Second Numbers: {numbers[::1]}\")"
   ]
  },
  {
   "cell_type": "code",
   "execution_count": null,
   "metadata": {},
   "outputs": [
    {
     "name": "stdout",
     "output_type": "stream",
     "text": [
      "['White', 'black', 'blue', 'red', 'yellow']\n"
     ]
    }
   ],
   "source": [
    "colors = ['White','orange','blue','red']\n",
    "colors.append('yellow')\n",
    "colors[1] = 'black'\n",
    "print(colors)"
   ]
  },
  {
   "cell_type": "markdown",
   "metadata": {},
   "source": []
  },
  {
   "cell_type": "code",
   "execution_count": 39,
   "metadata": {},
   "outputs": [
    {
     "name": "stdout",
     "output_type": "stream",
     "text": [
      "Animals in the list are : dog\n",
      "Animals in the list are : cat\n",
      "Animals in the list are : cow\n",
      "Animals in the list are : goat\n",
      "Animals in the list are : sheep\n"
     ]
    }
   ],
   "source": [
    "animals = ['dog','cat','cow','goat','sheep']\n",
    "\n",
    "for animal in animals:\n",
    "    print(f\"Animals in the list are : {animal}\")"
   ]
  },
  {
   "cell_type": "code",
   "execution_count": 40,
   "metadata": {},
   "outputs": [
    {
     "name": "stdout",
     "output_type": "stream",
     "text": [
      "Squares of the numbers: [0, 1, 4, 9, 16, 25]\n"
     ]
    }
   ],
   "source": [
    "squares = [x**2 for x in range(6)]\n",
    "print(f\"Squares of the numbers: {squares}\")"
   ]
  },
  {
   "cell_type": "markdown",
   "metadata": {},
   "source": [
    "Tupless"
   ]
  },
  {
   "cell_type": "code",
   "execution_count": 41,
   "metadata": {},
   "outputs": [
    {
     "name": "stdout",
     "output_type": "stream",
     "text": [
      "Coordinates is 10\n",
      "Coordinates is 30\n"
     ]
    }
   ],
   "source": [
    "coord = (10,20,30,40)\n",
    "print(f\"Coordinates is {coord[0]}\")\n",
    "print(f\"Coordinates is {coord[-2]}\")"
   ]
  },
  {
   "cell_type": "code",
   "execution_count": 45,
   "metadata": {},
   "outputs": [
    {
     "name": "stdout",
     "output_type": "stream",
     "text": [
      "x:5,y:10\n"
     ]
    }
   ],
   "source": [
    "point = (5,10)\n",
    "x,y = point\n",
    "print(f\"x:{x},y:{y}\")"
   ]
  },
  {
   "cell_type": "code",
   "execution_count": 46,
   "metadata": {},
   "outputs": [
    {
     "name": "stdout",
     "output_type": "stream",
     "text": [
      "Name: Shashank\n",
      "Age: 21\n",
      "Job role: Developer\n"
     ]
    }
   ],
   "source": [
    "person = (\"Shashank\",21,\"Developer\")\n",
    "print(f\"Name: {person[0]}\")\n",
    "print(f\"Age: {person[1]}\")\n",
    "print(f\"Job role: {person[2]}\")"
   ]
  },
  {
   "cell_type": "code",
   "execution_count": null,
   "metadata": {},
   "outputs": [
    {
     "name": "stdout",
     "output_type": "stream",
     "text": [
      "Result is: [1, 2, 4, 3, 5, 6]\n"
     ]
    }
   ],
   "source": [
    "t1 = [1,2,4]\n",
    "t2 = [3,5,6]\n",
    "t3 = t1+t2\n",
    "print(f\"Result is: {t3}\")"
   ]
  },
  {
   "cell_type": "code",
   "execution_count": 51,
   "metadata": {},
   "outputs": [
    {
     "name": "stdout",
     "output_type": "stream",
     "text": [
      "Banana is there in the tuple\n"
     ]
    }
   ],
   "source": [
    "fruits = ('apple','graphes','banana','cherry')\n",
    "if 'banana' in fruits:\n",
    "    print(\"Banana is there in the tuple\")\n",
    "else:\n",
    "    print(\"Banana is not there in the tuple\")"
   ]
  },
  {
   "cell_type": "code",
   "execution_count": 52,
   "metadata": {},
   "outputs": [
    {
     "name": "stdout",
     "output_type": "stream",
     "text": [
      "Orange is not there in the tuple\n"
     ]
    }
   ],
   "source": [
    "fruits = ('apple','graphes','banana','cherry')\n",
    "if 'orange' in fruits:\n",
    "    print(\"Orange is there in the tuple\")\n",
    "else:\n",
    "    print(\"Orange is not there in the tuple\")"
   ]
  },
  {
   "cell_type": "markdown",
   "metadata": {},
   "source": [
    "Dictionary in Python"
   ]
  },
  {
   "cell_type": "code",
   "execution_count": 53,
   "metadata": {},
   "outputs": [
    {
     "name": "stdout",
     "output_type": "stream",
     "text": [
      "Name:Shashank\n",
      "Age:21\n",
      "City:Bangalore\n"
     ]
    }
   ],
   "source": [
    "person = {'name':'Shashank','age':21,'city':'Bangalore'}\n",
    "print(f\"Name:{person['name']}\")\n",
    "print(f\"Age:{person['age']}\")\n",
    "print(f\"City:{person['city']}\")"
   ]
  },
  {
   "cell_type": "code",
   "execution_count": 54,
   "metadata": {},
   "outputs": [
    {
     "name": "stdout",
     "output_type": "stream",
     "text": [
      "{'brand': 'Yamaha', 'model': 'BS 6', 'year': 2023}\n"
     ]
    }
   ],
   "source": [
    "bike = {'brand':'Yamaha','model':'BS 5'}\n",
    "bike['year'] = 2023\n",
    "bike['model'] = 'BS 6'\n",
    "print(bike)"
   ]
  },
  {
   "cell_type": "code",
   "execution_count": 55,
   "metadata": {},
   "outputs": [
    {
     "name": "stdout",
     "output_type": "stream",
     "text": [
      "name: Shashank\n",
      "age: 21\n",
      "city: Bangalore\n"
     ]
    }
   ],
   "source": [
    "person = {'name':'Shashank','age':21,'city':'Bangalore'}\n",
    "for key, pair in person.items():\n",
    "    print(f'{key}: {pair}')"
   ]
  },
  {
   "cell_type": "code",
   "execution_count": 56,
   "metadata": {},
   "outputs": [
    {
     "name": "stdout",
     "output_type": "stream",
     "text": [
      "{'name': 'Shashank', 'position': 'Manager'}\n"
     ]
    }
   ],
   "source": [
    "employese = {'name':'Shashank','position':'Manager','salary':250000}\n",
    "del employese['salary']\n",
    "print(employese)"
   ]
  }
 ],
 "metadata": {
  "kernelspec": {
   "display_name": "Python 3",
   "language": "python",
   "name": "python3"
  },
  "language_info": {
   "codemirror_mode": {
    "name": "ipython",
    "version": 3
   },
   "file_extension": ".py",
   "mimetype": "text/x-python",
   "name": "python",
   "nbconvert_exporter": "python",
   "pygments_lexer": "ipython3",
   "version": "3.12.4"
  }
 },
 "nbformat": 4,
 "nbformat_minor": 2
}
