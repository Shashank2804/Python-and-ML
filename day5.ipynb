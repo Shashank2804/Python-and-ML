{
 "cells": [
  {
   "cell_type": "markdown",
   "metadata": {},
   "source": [
    "Sets - unordered collection of unique elements"
   ]
  },
  {
   "cell_type": "code",
   "execution_count": 4,
   "metadata": {},
   "outputs": [
    {
     "name": "stdout",
     "output_type": "stream",
     "text": [
      "Set Elements :{1, 2, 3, 4, 5}\n"
     ]
    }
   ],
   "source": [
    "numbers = {1,2,3,3,4,5}\n",
    "print(f\"Set Elements :{numbers}\")"
   ]
  },
  {
   "cell_type": "code",
   "execution_count": 5,
   "metadata": {},
   "outputs": [
    {
     "name": "stdout",
     "output_type": "stream",
     "text": [
      "{'blue', 'yellow', 'White', 'red'}\n"
     ]
    }
   ],
   "source": [
    "colors = {'White','orange','blue','red'}\n",
    "colors.add('yellow')\n",
    "colors.remove('orange')\n",
    "print(colors)"
   ]
  },
  {
   "cell_type": "code",
   "execution_count": 9,
   "metadata": {},
   "outputs": [
    {
     "name": "stdout",
     "output_type": "stream",
     "text": [
      "Combination of {1, 2, 3} and {3, 4, 5}: {1, 2, 3, 4, 5}\n",
      "Intersection of{1, 2, 3} and {3, 4, 5}: {3}\n"
     ]
    }
   ],
   "source": [
    "set1 = {1,2,3}\n",
    "set2 = {4,5,3}\n",
    "union_set = set1 | set2\n",
    "print(f\"Combination of {set1} and {set2}: {union_set}\")\n",
    "\n",
    "intersection = set1 & set2\n",
    "print(f\"Intersection of{set1} and {set2}: {intersection}\")"
   ]
  },
  {
   "cell_type": "code",
   "execution_count": 11,
   "metadata": {},
   "outputs": [
    {
     "name": "stdout",
     "output_type": "stream",
     "text": [
      "He is in the class\n"
     ]
    }
   ],
   "source": [
    "students = {'shashank','Ammu','Srujan','Paaji'}\n",
    "if 'Paaji' in students:\n",
    "    print(\"He is in the class\")\n",
    "else:\n",
    "    print('He is not in the class')"
   ]
  },
  {
   "cell_type": "markdown",
   "metadata": {},
   "source": [
    "Strings"
   ]
  },
  {
   "cell_type": "code",
   "execution_count": 12,
   "metadata": {},
   "outputs": [
    {
     "name": "stdout",
     "output_type": "stream",
     "text": [
      "Srujan Music Guy\n"
     ]
    }
   ],
   "source": [
    "first_name = 'Srujan'\n",
    "second_name = 'Music Guy'\n",
    "full_name = first_name+ \" \"+ second_name\n",
    "print(full_name)"
   ]
  },
  {
   "cell_type": "code",
   "execution_count": null,
   "metadata": {},
   "outputs": [
    {
     "name": "stdout",
     "output_type": "stream",
     "text": [
      "Starting Letters are Developer\n",
      "Ending Letters are  Shashank\n",
      "Starting Letters are Dep aa\n"
     ]
    }
   ],
   "source": [
    "text = \"Developer Shashank\"\n",
    "print(f\"Starting Letters are {text[:9]}\")\n",
    "print(f\"Ending Letters are {text[-9:]}\")\n",
    "print(f\"Starting Letters are {text[::2]}\")"
   ]
  },
  {
   "cell_type": "code",
   "execution_count": 20,
   "metadata": {},
   "outputs": [
    {
     "name": "stdout",
     "output_type": "stream",
     "text": [
      "The uppercase HELLO WORLD\n",
      "Upper case letters are HELLO WORLD\n",
      "The lowercase hello world\n"
     ]
    }
   ],
   "source": [
    "#upper and lower case functions\n",
    "message = \"Hello World\"\n",
    "print(f\"The uppercase {message.upper()}\")\n",
    "print(\"Upper case letters are \"+ message.upper())\n",
    "print(f\"The lowercase {message.lower()}\")"
   ]
  },
  {
   "cell_type": "code",
   "execution_count": 23,
   "metadata": {},
   "outputs": [
    {
     "name": "stdout",
     "output_type": "stream",
     "text": [
      "List of fruits: ['apple,orange,graphs,mango']\n",
      "Trimmed words:Hi Shashank\n"
     ]
    }
   ],
   "source": [
    "csv_data ='apple,orange,graphs,mango'\n",
    "fruits = csv_data.split(\" \")\n",
    "print(f\"List of fruits: {fruits}\")\n",
    "\n",
    "message = \"   Hi Shashank    \"\n",
    "print(f\"Trimmed words:{message.strip()}\")"
   ]
  },
  {
   "cell_type": "code",
   "execution_count": 24,
   "metadata": {},
   "outputs": [
    {
     "name": "stdout",
     "output_type": "stream",
     "text": [
      "Index of python:2\n",
      "Replacing 'Python' with 'JavaScript': I like JavaScript programming and i like to be Developer\n"
     ]
    }
   ],
   "source": [
    "string = \"I like Python programming and i like to be Developer\"\n",
    "print(f\"Index of python:{string.find('like')}\")\n",
    "print(f\"Replacing 'Python' with 'JavaScript': {string.replace('Python', 'JavaScript')}\")"
   ]
  },
  {
   "cell_type": "code",
   "execution_count": 31,
   "metadata": {},
   "outputs": [
    {
     "name": "stdout",
     "output_type": "stream",
     "text": [
      "index of 'rr':  7\n",
      "occurences of 'r': 3\n",
      "does strawberry starts with 'str': True\n",
      "does strawberry ends with 'berry': True\n"
     ]
    }
   ],
   "source": [
    "strawberry = 'strawberry'\n",
    "index_of_rr = strawberry.find(\"rr\")\n",
    "print(\"index of 'rr': \", index_of_rr)\n",
    "\n",
    "occurence_of_r = strawberry.count('r')\n",
    "print(\"occurences of 'r':\", occurence_of_r)\n",
    "\n",
    "starts_with_check = strawberry.startswith('str')\n",
    "print(f\"does {strawberry} starts with 'str':\", starts_with_check)\n",
    "\n",
    "ends_with_check = strawberry.endswith('berry')\n",
    "print(f\"does {strawberry} ends with 'berry':\", ends_with_check)"
   ]
  },
  {
   "cell_type": "code",
   "execution_count": null,
   "metadata": {},
   "outputs": [],
   "source": []
  }
 ],
 "metadata": {
  "kernelspec": {
   "display_name": "Python 3",
   "language": "python",
   "name": "python3"
  },
  "language_info": {
   "codemirror_mode": {
    "name": "ipython",
    "version": 3
   },
   "file_extension": ".py",
   "mimetype": "text/x-python",
   "name": "python",
   "nbconvert_exporter": "python",
   "pygments_lexer": "ipython3",
   "version": "3.12.4"
  }
 },
 "nbformat": 4,
 "nbformat_minor": 2
}
