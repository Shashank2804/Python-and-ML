{
 "cells": [
  {
   "cell_type": "markdown",
   "metadata": {},
   "source": [
    "OOPS\n",
    "\n",
    "Programming Paradigm that helps in reducing code by the classe and object\n",
    "\n",
    "Class = Blueprint for creating the object"
   ]
  },
  {
   "cell_type": "code",
   "execution_count": null,
   "metadata": {},
   "outputs": [
    {
     "name": "stdout",
     "output_type": "stream",
     "text": [
      "Student name: Shashank, Student age: 21,Student grade: A+\n"
     ]
    }
   ],
   "source": [
    "class Student:\n",
    "    def __init__(self,name,age,grade):\n",
    "        self.name = name\n",
    "        self.age = age\n",
    "        self.grade = grade\n",
    "    def __str__(self):\n",
    "        return f'Student name: {self.name}, Student age: {self.age}, Student grade: {self.grade}'\n",
    "    \n",
    "student = Student('Shashank',21,'A+')\n",
    "print(student)"
   ]
  },
  {
   "cell_type": "code",
   "execution_count": 7,
   "metadata": {},
   "outputs": [
    {
     "name": "stdout",
     "output_type": "stream",
     "text": [
      "BankAccount(Shashank DS, Balance: ₹5000)\n",
      "₹2000 deposited. New balance: ₹7000\n",
      "₹3500 withdrawn. New balance: ₹3500\n",
      "Available balance: ₹3500\n",
      "Insufficient balance!\n"
     ]
    }
   ],
   "source": [
    "\n",
    "class BankAccount:\n",
    "    def __init__(self, account_holder, balance=0.0):\n",
    "        self.account_holder = account_holder\n",
    "        self.balance = balance\n",
    "\n",
    "    def deposit(self, amount):\n",
    "        if amount > 0:\n",
    "            self.balance += amount\n",
    "            print(f\"₹{amount} deposited. New balance: ₹{self.balance}\")\n",
    "        else:\n",
    "            print(\"Deposit amount must be positive.\")\n",
    "\n",
    "    def withdraw(self, amount):\n",
    "        if 0 < amount <= self.balance:\n",
    "            self.balance -= amount\n",
    "            print(f\"₹{amount} withdrawn. New balance: ₹{self.balance}\")\n",
    "        elif amount > self.balance:\n",
    "            print(\"Insufficient balance!\")\n",
    "        else:\n",
    "            print(\"Withdrawal amount must be positive.\")\n",
    "\n",
    "    def get_balance(self):\n",
    "        print(f\"Available balance: ₹{self.balance}\")\n",
    "\n",
    "    def __str__(self):\n",
    "        return f\"BankAccount({self.account_holder}, Balance: ₹{self.balance})\"\n",
    "\n",
    "account = BankAccount(balance=5000, account_holder=\"Shashank DS\")\n",
    "print(account)\n",
    "\n",
    "account.deposit(2000)\n",
    "account.withdraw(3500)\n",
    "account.get_balance()\n",
    "account.withdraw(7000)"
   ]
  },
  {
   "cell_type": "code",
   "execution_count": 1,
   "metadata": {},
   "outputs": [
    {
     "name": "stdout",
     "output_type": "stream",
     "text": [
      "Employee: Shashank D S , Salary: 20000\n",
      "Employee: Srujan gay , Salary: 50000\n"
     ]
    }
   ],
   "source": [
    "class Employee:\n",
    "    def __init__(self, name, salary):\n",
    "        self.name = name\n",
    "        self.salary = salary\n",
    "\n",
    "    def __str__(self):\n",
    "        return f\"Employee: {self.name} , Salary: {self.salary}\"\n",
    "\n",
    "employee_one = Employee(\"Shashank D S\",20000)  \n",
    "employee_two = Employee(\"Srujan gay\",50000) \n",
    "\n",
    "print(employee_one)\n",
    "print(employee_two)\n"
   ]
  },
  {
   "cell_type": "code",
   "execution_count": 1,
   "metadata": {},
   "outputs": [
    {
     "name": "stdout",
     "output_type": "stream",
     "text": [
      "Book('The Alchemist', Author: Paulo Coelho, ISBN: 978-0062315007, Copies: 3)\n",
      "Book('Harry Potter', Author: JK Rowling, ISBN: 978-0062315008, Copies: 2)\n",
      "'The Alchemist' borrowed. Copies left: 2\n",
      "'The Alchemist' returned. Copies available: 3\n",
      "2 copies added. Total copies: 5\n",
      "'The Alchemist' borrowed. Copies left: 4\n",
      "'The Alchemist' borrowed. Copies left: 3\n",
      "'The Alchemist' borrowed. Copies left: 2\n",
      "'The Alchemist' borrowed. Copies left: 1\n",
      "'Harry Potter' borrowed. Copies left: 1\n",
      "'Harry Potter' returned. Copies available: 2\n",
      "2 copies added. Total copies: 4\n"
     ]
    }
   ],
   "source": [
    "class Book:\n",
    "    def __init__(self, title, author, isbn, copies=1):\n",
    "        self.title = title\n",
    "        self.author = author\n",
    "        self.isbn = isbn\n",
    "        self.copies = copies\n",
    "\n",
    "    def add_copies(self, count):\n",
    "        if count > 0:\n",
    "            self.copies += count\n",
    "            print(f\"{count} copies added. Total copies: {self.copies}\")\n",
    "        else:\n",
    "            print(\"Copy count must be positive.\")\n",
    "\n",
    "    def borrow_book(self):\n",
    "        if self.copies > 0:\n",
    "            self.copies -= 1\n",
    "            print(f\"'{self.title}' borrowed. Copies left: {self.copies}\")\n",
    "        else:\n",
    "            print(f\"'{self.title}' is out of stock!\")\n",
    "\n",
    "    def return_book(self):\n",
    "        self.copies += 1\n",
    "        print(f\"'{self.title}' returned. Copies available: {self.copies}\")\n",
    "\n",
    "    def __str__(self):\n",
    "        return f\"Book('{self.title}', Author: {self.author}, ISBN: {self.isbn}, Copies: {self.copies})\"\n",
    "\n",
    "book1 = Book(\"The Alchemist\", \"Paulo Coelho\", \"978-0062315007\", 3)\n",
    "book2 = Book(\"Harry Potter\", \"JK Rowling\", \"978-0062315008\", 2)\n",
    "print(book1)\n",
    "print(book2)\n",
    "\n",
    "book1.borrow_book()\n",
    "book1.return_book()\n",
    "book1.add_copies(2)\n",
    "\n",
    "book1.borrow_book()\n",
    "book1.borrow_book()\n",
    "book1.borrow_book()\n",
    "book1.borrow_book()\n",
    "\n",
    "book2.borrow_book()\n",
    "book2.return_book()\n",
    "book2.add_copies(2)"
   ]
  },
  {
   "cell_type": "code",
   "execution_count": 3,
   "metadata": {},
   "outputs": [
    {
     "name": "stdout",
     "output_type": "stream",
     "text": [
      "Area of rectangle1: 300\n",
      "Area of rectangle2: 168\n"
     ]
    }
   ],
   "source": [
    "class Rectangle:\n",
    "    def __init__(self, length, width):\n",
    "        self.length = length\n",
    "        self.width = width\n",
    "    def area(self):\n",
    "        return self.length * self.width\n",
    "    \n",
    "rect1 = Rectangle(15,20)\n",
    "rect2 = Rectangle(14,12)\n",
    "\n",
    "print(f\"Area of rectangle1: {rect1.area()}\")\n",
    "print(f\"Area of rectangle2: {rect2.area()}\")"
   ]
  },
  {
   "cell_type": "code",
   "execution_count": null,
   "metadata": {},
   "outputs": [
    {
     "name": "stdout",
     "output_type": "stream",
     "text": [
      "Dog is barking\n"
     ]
    }
   ],
   "source": [
    "#Inheritance in python\n",
    "\n",
    "class Animal:\n",
    "    def __init__(self, name):\n",
    "        self.name = name\n",
    "\n",
    "    def sound(self):\n",
    "        print(\"Animal make sounds\")\n",
    "\n",
    "class Dog(Animal):\n",
    "    def sound(self):\n",
    "        print(\"Dog is barking\")\n",
    "\n",
    "dog = Dog('Simbha')\n",
    "dog.sound()"
   ]
  },
  {
   "cell_type": "code",
   "execution_count": 8,
   "metadata": {},
   "outputs": [
    {
     "name": "stdout",
     "output_type": "stream",
     "text": [
      "2022 Tesla Model 5\n",
      "Doors: 4\n",
      "2024 Harlay Davidson BREAKOUT\n",
      "Type: Cruiser\n"
     ]
    }
   ],
   "source": [
    "class Vehicle:\n",
    "    def __init__(self, brand: str, model: str, year: int):\n",
    "        self.brand = brand\n",
    "        self.model = model\n",
    "        self.year = year\n",
    "\n",
    "    def display_info(self):\n",
    "        print(f\"{self.year} {self.brand} {self.model}\")\n",
    "\n",
    "class Car(Vehicle):\n",
    "    def __init__(self, brand, model, year, doors) -> None:\n",
    "        super().__init__(brand, model, year)\n",
    "        self.doors = doors\n",
    "\n",
    "    def display_info(self):\n",
    "        super().display_info()\n",
    "        print(f\"Doors: {self.doors}\")\n",
    "\n",
    "class Bike(Vehicle):\n",
    "    def __init__(self, brand, model, year, type_of_bike) -> None:\n",
    "        super().__init__(brand, model, year)\n",
    "        self.type_of_bike = type_of_bike\n",
    "\n",
    "    def display_info(self):\n",
    "        super().display_info()\n",
    "        print(f\"Type: {self.type_of_bike}\")\n",
    "\n",
    "car = Car(\"Tesla\", \"Model 5\", 2022, 4)\n",
    "bike = Bike(\"Harlay Davidson\", \"BREAKOUT\", 2024, \"Cruiser\")\n",
    "\n",
    "car.display_info()\n",
    "bike.display_info()"
   ]
  },
  {
   "cell_type": "code",
   "execution_count": 9,
   "metadata": {},
   "outputs": [
    {
     "name": "stdout",
     "output_type": "stream",
     "text": [
      "\n",
      "Student Details:\n",
      "Name: Shashank DS, Age: 21\n",
      "Student ID: 1ST21CS189, Major: Computer Science\n",
      "\n",
      "Teacher Details:\n",
      "Name: Balakrishna, Age: 47\n",
      "Employee ID: STFAV, Subject: DSA\n"
     ]
    }
   ],
   "source": [
    "class Person:\n",
    "    def __init__(self, name, age):\n",
    "        self.name = name\n",
    "        self.age = age\n",
    "\n",
    "    def display_info(self):\n",
    "        print(f\"Name: {self.name}, Age: {self.age}\")\n",
    "\n",
    "\n",
    "class Student(Person):\n",
    "    def __init__(self, name, age, student_id, major):\n",
    "        super().__init__(name, age)\n",
    "        self.student_id = student_id\n",
    "        self.major = major\n",
    "\n",
    "    def display_info(self):\n",
    "        super().display_info()\n",
    "        print(f\"Student ID: {self.student_id}, Major: {self.major}\")\n",
    "\n",
    "\n",
    "class Teacher(Person):\n",
    "    def __init__(self, name, age, employee_id, subject):\n",
    "        super().__init__(name, age)\n",
    "        self.employee_id = employee_id\n",
    "        self.subject = subject\n",
    "\n",
    "    def display_info(self):\n",
    "        super().display_info()\n",
    "        print(f\"Employee ID: {self.employee_id}, Subject: {self.subject}\")\n",
    "\n",
    "\n",
    "student = Student(\"Shashank DS\", 21, \"1ST21CS189\", \"Computer Science\")\n",
    "teacher = Teacher(\"Balakrishna\", 47, \"STFAV\", \"DSA\")\n",
    "\n",
    "print(\"\\nStudent Details:\")\n",
    "student.display_info()\n",
    "\n",
    "print(\"\\nTeacher Details:\")\n",
    "teacher.display_info()\n",
    "\n"
   ]
  },
  {
   "cell_type": "code",
   "execution_count": 1,
   "metadata": {},
   "outputs": [
    {
     "name": "stdout",
     "output_type": "stream",
     "text": [
      "The Area of Circle is 78.53981633974483\n"
     ]
    }
   ],
   "source": [
    "import math\n",
    "\n",
    "class Shape:\n",
    "    def area(self):\n",
    "        return \"Area is not specified\"\n",
    "\n",
    "class Circle(Shape):\n",
    "    def __init__(self,radius):\n",
    "        self.radius = radius\n",
    "\n",
    "    def area(self):\n",
    "        return math.pi*self.radius**2\n",
    "    \n",
    "circle = Circle(5)\n",
    "print(f\"The Area of Circle is {circle.area()}\")"
   ]
  },
  {
   "cell_type": "code",
   "execution_count": null,
   "metadata": {},
   "outputs": [
    {
     "name": "stdout",
     "output_type": "stream",
     "text": [
      "First name is Virat This is Last Name Anushkaa\n",
      "Last name is Last Name is Sharma\n"
     ]
    }
   ],
   "source": [
    "class Parent:\n",
    "    def __init__(self,last):\n",
    "        self.last = last\n",
    "\n",
    "    def lastname(self):\n",
    "        return f\"Last Name is {self.last}\"\n",
    "    \n",
    "class Child(Parent):\n",
    "    # \"\"\"\n",
    "    # using super() function in Python OOP\n",
    "    # \"\"\"\n",
    "    def __init__(self, first,last):\n",
    "        super().__init__(last)\n",
    "        self.first  = first\n",
    "\n",
    "    def firstname(self):\n",
    "      return f\"First name is {self.first}\"\n",
    "    \n",
    "    #overiding\n",
    "    def lastname(self):\n",
    "        return f'This is Last Name {self.last}'\n",
    "\n",
    "name = Child(\"Virat\",\"Anushkaa\")\n",
    "print(f\"{name.firstname()} {name.lastname()}\")\n",
    "\n",
    "parent = Parent(\"Sharma\")\n",
    "print(f\"Last name is {parent.lastname()}\")"
   ]
  },
  {
   "cell_type": "markdown",
   "metadata": {},
   "source": [
    "super():\n",
    "This function is used to give access to methods and properties of parent class.\n",
    "This function is used vto call methods from the parent class inside a child class.This is useful when a child needs to extend or modify a method  from its parent without replacing.\n",
    "- Code Reusuability\n",
    "- Maintainability\n",
    "- Avoid redudent code\n",
    "- Easier to modify"
   ]
  },
  {
   "cell_type": "code",
   "execution_count": null,
   "metadata": {},
   "outputs": [
    {
     "name": "stdout",
     "output_type": "stream",
     "text": [
      "Class A\n",
      "Class C\n"
     ]
    }
   ],
   "source": [
    "# Multiple inheritance\n",
    "class A:\n",
    "    def show(self):\n",
    "        print(\"Class A\")\n",
    "class B :\n",
    "    def show(self):\n",
    "        print(\"Class B\")\n",
    "class C(A,B):\n",
    "    def show(self):\n",
    "        super().show()\n",
    "        print(\"Class C\")\n",
    "obj = C()\n",
    "obj.show()"
   ]
  },
  {
   "cell_type": "code",
   "execution_count": null,
   "metadata": {},
   "outputs": [
    {
     "name": "stdout",
     "output_type": "stream",
     "text": [
      "Class A\n",
      "Class B\n",
      "Class C\n"
     ]
    }
   ],
   "source": [
    "# Multi level inheritance\n",
    "class A:\n",
    "    def show(self):\n",
    "        print(\"Class A\")\n",
    "class B(A):\n",
    "    def show(self):\n",
    "        super().show()\n",
    "        print(\"Class B\")\n",
    "class C(B):\n",
    "    def show(self):\n",
    "        super().show()\n",
    "        print(\"Class C\")\n",
    "obj = C()\n",
    "obj.show()"
   ]
  },
  {
   "cell_type": "code",
   "execution_count": null,
   "metadata": {},
   "outputs": [],
   "source": []
  }
 ],
 "metadata": {
  "kernelspec": {
   "display_name": "Python 3",
   "language": "python",
   "name": "python3"
  },
  "language_info": {
   "codemirror_mode": {
    "name": "ipython",
    "version": 3
   },
   "file_extension": ".py",
   "mimetype": "text/x-python",
   "name": "python",
   "nbconvert_exporter": "python",
   "pygments_lexer": "ipython3",
   "version": "3.12.4"
  }
 },
 "nbformat": 4,
 "nbformat_minor": 2
}
