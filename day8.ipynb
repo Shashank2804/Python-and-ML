{
 "cells": [
  {
   "cell_type": "markdown",
   "metadata": {},
   "source": [
    "Encapsulation - Restricting the access to certain methods and attributes of a class,and can be accesed via getters and can be modified by a setters is encapulation\n",
    "- private members - can't be accessed outside the class {prefixed with __}\n",
    "- public members - can be accessed outseid the class"
   ]
  },
  {
   "cell_type": "code",
   "execution_count": 6,
   "metadata": {},
   "outputs": [
    {
     "name": "stdout",
     "output_type": "stream",
     "text": [
      "Account created with an initial balance of ₹1000.00\n",
      "Successfully deposited ₹750.00. New balance: ₹1750.00\n",
      "Successfully withdrew ₹150.00. Remaining balance: ₹1600.00\n",
      "Current balance: ₹1600.00\n",
      "1600\n"
     ]
    }
   ],
   "source": [
    "class BankAccount:\n",
    "    def __init__(self, balance: float) -> None:\n",
    "        self.__balance = balance\n",
    "        print(f\"Account created with an initial balance of ₹{self.__balance:.2f}\")\n",
    "\n",
    "    def deposit(self, amount: float) -> None:\n",
    "        if amount > 0:\n",
    "            self.__balance += amount\n",
    "            print(f\"Successfully deposited ₹{amount:.2f}. New balance: ₹{self.__balance:.2f}\")\n",
    "        else:\n",
    "            print(\"Deposit amount must be greater than zero.\")\n",
    "\n",
    "    def withdraw(self, amount: float)->None:\n",
    "        if 0 < amount <= self.__balance:\n",
    "            self.__balance -= amount\n",
    "            print(f\"Successfully withdrew ₹{amount:.2f}. Remaining balance: ₹{self.__balance:.2f}\")\n",
    "        else:\n",
    "            print(\"Insufficient balance or invalid withdrawal amount.\")\n",
    "\n",
    "    def get_balance(self)->float:\n",
    "        print(f\"Current balance: ₹{self.__balance:.2f}\")\n",
    "        return self.__balance\n",
    "\n",
    "account = BankAccount(1000)\n",
    "account.deposit(750)\n",
    "account.withdraw(150)\n",
    "print(account.get_balance())\n"
   ]
  },
  {
   "cell_type": "code",
   "execution_count": null,
   "metadata": {},
   "outputs": [
    {
     "name": "stdout",
     "output_type": "stream",
     "text": [
      "Employee 'Shashank' created with a salary of ₹10000.00\n",
      "Shashank\n",
      "Fetching salary for Shashank: ₹10000.00\n",
      "10000\n",
      "Updating salary for Shashank from ₹10000.00 to ₹30000.00\n",
      "Fetching salary for Shashank: ₹30000.00\n"
     ]
    },
    {
     "data": {
      "text/plain": [
       "30000"
      ]
     },
     "execution_count": 8,
     "metadata": {},
     "output_type": "execute_result"
    }
   ],
   "source": [
    "class Employee:\n",
    "    def __init__(self, name: str, salary: float) -> None:\n",
    "        self.name = name\n",
    "        self.__salary = salary\n",
    "        print(f\"Employee '{self.name}' created with a salary of ₹{self.__salary:.2f}\")\n",
    "\n",
    "    def get_salary(self) -> float:\n",
    "        \"\"\"Getter for Salary\"\"\"\n",
    "        print(f\"Fetching salary for {self.name}: ₹{self.__salary:.2f}\")\n",
    "        return self.__salary\n",
    "\n",
    "    def set_salary(self, salary: float) -> None: #setter\n",
    "        \"\"\"Setter for Salary\"\"\"\n",
    "        if salary > 0:\n",
    "            print(f\"Updating salary for {self.name} from ₹{self.__salary:.2f} to ₹{salary:.2f}\")\n",
    "            self.__salary = salary\n",
    "        else:\n",
    "            print(\"Salary must be a positive value.\")\n",
    "\n",
    "employee = Employee(\"Shashank\", 10000)\n",
    "print(employee.name)\n",
    "print(employee.get_salary())\n",
    "employee.set_salary(30000)\n",
    "employee.get_salary()"
   ]
  },
  {
   "cell_type": "code",
   "execution_count": null,
   "metadata": {},
   "outputs": [
    {
     "name": "stdout",
     "output_type": "stream",
     "text": [
      "Student 'Shashank' enrolled with an initial grade of 95.00\n",
      "Fetching grade for Shashank: 95.00\n",
      "95\n",
      "Updating Shashank's grade from 95.00 to 99.00\n",
      "Fetching grade for Shashank: 99.00\n",
      "99\n"
     ]
    }
   ],
   "source": [
    "class Student:\n",
    "    def __init__(self, name: str, grade: float) -> None:\n",
    "        self.name = name\n",
    "        self.__grade = grade\n",
    "        print(f\"Student '{self.name}' enrolled with an initial grade of {self.__grade:.2f}\")\n",
    "\n",
    "    def get_grade(self) -> float:\n",
    "        print(f\"Fetching grade for {self.name}: {self.__grade:.2f}\")\n",
    "        return self.__grade\n",
    "\n",
    "    def set_grade(self, grade: float) -> None:\n",
    "        print(f\"Updating {self.name}'s grade from {self.__grade:.2f} to {grade:.2f}\")\n",
    "        if 0 <= grade <= 100:\n",
    "            self.__grade = grade\n",
    "        else:\n",
    "            print(\"Invalid grade! Grade must be between 0 and 100.\")\n",
    "\n",
    "student = Student(\"Shashank\", 95)\n",
    "print(student.get_grade())\n",
    "student.set_grade(99)\n",
    "print(student.get_grade())"
   ]
  },
  {
   "cell_type": "code",
   "execution_count": null,
   "metadata": {},
   "outputs": [],
   "source": []
  }
 ],
 "metadata": {
  "kernelspec": {
   "display_name": "Python 3",
   "language": "python",
   "name": "python3"
  },
  "language_info": {
   "codemirror_mode": {
    "name": "ipython",
    "version": 3
   },
   "file_extension": ".py",
   "mimetype": "text/x-python",
   "name": "python",
   "nbconvert_exporter": "python",
   "pygments_lexer": "ipython3",
   "version": "3.12.4"
  }
 },
 "nbformat": 4,
 "nbformat_minor": 2
}
