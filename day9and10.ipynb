{
 "cells": [
  {
   "cell_type": "code",
   "execution_count": 4,
   "metadata": {},
   "outputs": [
    {
     "name": "stdout",
     "output_type": "stream",
     "text": [
      "Car initialized with speed: 10 km/h\n",
      "Accelerated by 20 km/h. New speed: 30 km/h\n",
      "Braked by 5 km/h. New speed: 25 km/h\n",
      "Current speed: 25 km/h\n",
      "25\n",
      "Braked by 30 km/h. New speed: 0 km/h\n"
     ]
    }
   ],
   "source": [
    "class Car:\n",
    "    def __init__(self, initial_speed: float = 0) -> None:\n",
    "        self.__speed = max(0, initial_speed)\n",
    "        print(f\"Car initialized with speed: {self.__speed} km/h\")\n",
    "    \n",
    "    def get_speed(self) -> float:\n",
    "        print(f\"Current speed: {self.__speed} km/h\")\n",
    "        return self.__speed\n",
    "    \n",
    "    def set_speed(self, value: float) -> None:\n",
    "        if value >= 0:\n",
    "            print(f\"Setting speed to {value} km/h\")\n",
    "            self.__speed = value\n",
    "        else:\n",
    "            print(\"Speed cannot be negative!\")\n",
    "    \n",
    "    def accelerate(self, amount: float) -> None:\n",
    "        if amount > 0:\n",
    "            self.__speed += amount\n",
    "            print(f\"Accelerated by {amount} km/h. New speed: {self.__speed} km/h\")\n",
    "        else:\n",
    "            print(\"Acceleration amount must be positive!\")\n",
    "    \n",
    "    def brake(self, amount: float) -> None:\n",
    "        if amount > 0:\n",
    "            self.__speed = max(0, self.__speed - amount)\n",
    "            print(f\"Braked by {amount} km/h. New speed: {self.__speed} km/h\")\n",
    "        else:\n",
    "            print(\"Braking amount must be positive!\")\n",
    "        \n",
    "car = Car(10)\n",
    "car.accelerate(20)\n",
    "car.brake(5)\n",
    "print(car.get_speed())\n",
    "car.brake(30)"
   ]
  },
  {
   "cell_type": "code",
   "execution_count": 12,
   "metadata": {},
   "outputs": [
    {
     "name": "stdout",
     "output_type": "stream",
     "text": [
      "Account created for user: Shashank\n",
      "Password updated successfully!\n",
      "Incorrect old password!\n",
      "username: Shashank\n"
     ]
    }
   ],
   "source": [
    "import hashlib\n",
    "\n",
    "class UserAccount:\n",
    "    def __init__(self, username: str, password: str) -> None:\n",
    "        self.username = username\n",
    "        self.__password = self._hash_password(password)\n",
    "        print(f\"Account created for user: {self.username}\")\n",
    "\n",
    "    def _hash_password(self, password: str) -> str:\n",
    "        return hashlib.sha256(password.encode()).hexdigest()\n",
    "\n",
    "    def update_password(self, old_password: str, new_password: str) -> None:\n",
    "        if self._hash_password(old_password) == self.__password:\n",
    "            if len(new_password) < 6:\n",
    "                print(\"Password must be at least 6 characters long.\")\n",
    "                return\n",
    "            self.__password = self._hash_password(new_password)\n",
    "            print(\"Password updated successfully!\")\n",
    "        else:\n",
    "            print(\"Incorrect old password!\")\n",
    "\n",
    "    def get_username(self) -> str:\n",
    "        return self.username\n",
    "\n",
    "user = UserAccount(\"Shashank\", \"123456\")\n",
    "user.update_password(\"123456\", \"987654\")\n",
    "user.update_password(\"wrongpass\", \"newpassword\")\n",
    "print(f'username: {user.get_username()}')"
   ]
  },
  {
   "cell_type": "markdown",
   "metadata": {},
   "source": [
    "### Abstraction\n",
    "manage complexity by hiding implementation details and exposing only the essential features of code.\n"
   ]
  },
  {
   "cell_type": "code",
   "execution_count": 14,
   "metadata": {},
   "outputs": [
    {
     "name": "stdout",
     "output_type": "stream",
     "text": [
      "The Area of the Rectangle is 200\n"
     ]
    }
   ],
   "source": [
    "from abc import abstractmethod\n",
    "\n",
    "class Shape:\n",
    "    @abstractmethod\n",
    "    def area(self):\n",
    "        pass\n",
    "class Rectangle(Shape):\n",
    "    def __init__(self, width: float, height: float) -> None:\n",
    "        self.width = width\n",
    "        self.height = height\n",
    "\n",
    "    def area(self) -> float:\n",
    "        return self.width * self.height\n",
    "    \n",
    "rect = Rectangle(10, 20)\n",
    "print(f\"The Area of the Rectangle is {rect.area()}\")"
   ]
  },
  {
   "cell_type": "code",
   "execution_count": 15,
   "metadata": {},
   "outputs": [
    {
     "name": "stdout",
     "output_type": "stream",
     "text": [
      "Dog says: Bark\n",
      "Cat says: Meow\n"
     ]
    }
   ],
   "source": [
    "class Animal:\n",
    "    @abstractmethod\n",
    "    def make_sound(self):\n",
    "        pass\n",
    "\n",
    "class Dog(Animal):\n",
    "    def make_sound(self) -> None:\n",
    "        return \"Bark\"\n",
    "    \n",
    "class Cat(Animal):\n",
    "    def make_sound(self) -> None:\n",
    "        return \"Meow\"\n",
    "    \n",
    "dog = Dog()\n",
    "cat = Cat()\n",
    "print(f\"Dog says: {dog.make_sound()}\")\n",
    "print(f\"Cat says: {cat.make_sound()}\")\n",
    "    "
   ]
  },
  {
   "cell_type": "code",
   "execution_count": 2,
   "metadata": {},
   "outputs": [
    {
     "name": "stdout",
     "output_type": "stream",
     "text": [
      "\n",
      "--- Payment Processing System ---\n",
      "\n",
      "Initiating payment of $100.00...\n",
      "Initiating payment of $200.00...\n",
      "Initiating payment of $300.00...\n",
      "Processing credit card payment for Shashank (Card ending in 5432)...\n",
      "Credit Card payment failed. Please check your details or balance.\n",
      "---------------------------------\n",
      "Processing PayPal payment for shashank@gmail.com...\n",
      "Payment of $200.00 successful via PayPal.\n",
      "---------------------------------\n",
      "Processing bank transfer to account ending in 7890...\n",
      "Bank transfer failed. Insufficient funds or invalid details.\n",
      "---------------------------------\n"
     ]
    }
   ],
   "source": [
    "from abc import ABC, abstractmethod\n",
    "import random\n",
    "\n",
    "class Payment(ABC):\n",
    "    def __init__(self, amount: float) -> None:\n",
    "        if amount <= 0:\n",
    "            raise ValueError(\"Amount must be a positive number.\")\n",
    "        self._amount = amount\n",
    "        print(f\"Initiating payment of ${self._amount:.2f}...\")\n",
    "\n",
    "    @abstractmethod\n",
    "    def process_payment(self) -> bool:\n",
    "        pass\n",
    "\n",
    "class CreditCardPayment(Payment):\n",
    "    def __init__(self, amount: float, card_number: str, card_holder: str) -> None:\n",
    "        super().__init__(amount)\n",
    "        self.__card_number = card_number[-4:]\n",
    "        self._card_holder = card_holder\n",
    "\n",
    "    def process_payment(self) -> bool:\n",
    "        print(f\"Processing credit card payment for {self._card_holder} (Card ending in {self.__card_number})...\")\n",
    "        success = random.choice([True, False])\n",
    "        if success:\n",
    "            print(f\"Payment of ${self._amount:.2f} successful via Credit Card.\")\n",
    "            return True\n",
    "        else:\n",
    "            print(\"Credit Card payment failed. Please check your details or balance.\")\n",
    "            return False\n",
    "\n",
    "class PayPalPayment(Payment):\n",
    "    def __init__(self, amount: float, email: str) -> None:\n",
    "        super().__init__(amount)\n",
    "        self.__email = email\n",
    "\n",
    "    def process_payment(self) -> bool:\n",
    "        print(f\"Processing PayPal payment for {self.__email}...\")\n",
    "        success = random.choice([True, False])\n",
    "        if success:\n",
    "            print(f\"Payment of ${self._amount:.2f} successful via PayPal.\")\n",
    "            return True\n",
    "        else:\n",
    "            print(\"PayPal payment failed. Please check your PayPal account.\")\n",
    "            return False\n",
    "\n",
    "class BankTransferPayment(Payment):\n",
    "    def __init__(self, amount: float, account_number: str) -> None:\n",
    "        super().__init__(amount)\n",
    "        self.__account_number = account_number[-4:]\n",
    "\n",
    "    def process_payment(self) -> bool:\n",
    "        print(f\"Processing bank transfer to account ending in {self.__account_number}...\")\n",
    "        success = random.choice([True, False])\n",
    "        if success:\n",
    "            print(f\"Payment of ${self._amount:.2f} successful via Bank Transfer.\")\n",
    "            return True\n",
    "        else:\n",
    "            print(\"Bank transfer failed. Insufficient funds or invalid details.\")\n",
    "            return False\n",
    "\n",
    "print(\"\\n--- Payment Processing System ---\\n\")\n",
    "\n",
    "payments = [\n",
    "    CreditCardPayment(100, \"1234-5678-9876-5432\", \"Shashank\"),\n",
    "    PayPalPayment(200, \"shashank@gmail.com\"),\n",
    "    BankTransferPayment(300, \"1234567890\")\n",
    "]\n",
    "\n",
    "for payment in payments:\n",
    "    payment.process_payment()\n",
    "    print('---------------------------------')\n"
   ]
  },
  {
   "cell_type": "code",
   "execution_count": 4,
   "metadata": {},
   "outputs": [
    {
     "name": "stdout",
     "output_type": "stream",
     "text": [
      "Bike max speed is 100km/h.\n",
      "None\n"
     ]
    }
   ],
   "source": [
    "from abc import ABC, abstractmethod\n",
    "\n",
    "class Vehicle(ABC):\n",
    "    @abstractmethod\n",
    "    def max_speed(self):\n",
    "        pass\n",
    "\n",
    "class Bike(Vehicle):\n",
    "    def max_speed(self):\n",
    "        print(\"Bike max speed is 100km/h.\")\n",
    "\n",
    "class Car(Vehicle):\n",
    "    def max_speed(self):\n",
    "        print(\"Car max speed is 200km/h.\")\n",
    "\n",
    "bike = Bike()\n",
    "print(bike.max_speed())"
   ]
  },
  {
   "cell_type": "code",
   "execution_count": 5,
   "metadata": {},
   "outputs": [
    {
     "name": "stdout",
     "output_type": "stream",
     "text": [
      "Toyota Camry vehicle initialized with 50000 km mileage.\n",
      "Harley-Davidson Street 750 vehicle initialized with 15000 km mileage.\n",
      "\n",
      "Starting Vehicles...\n",
      "\n",
      "The Toyota Camry car's engine is now running.\n",
      "The Harley-Davidson Street 750 motorcycle's engine is now running.\n",
      "\n",
      "Stopping Vehicles...\n",
      "\n",
      "The Toyota Camry car's engine has been turned off.\n",
      "The Harley-Davidson Street 750 motorcycle's engine has been turned off.\n"
     ]
    }
   ],
   "source": [
    "from abc import ABC, abstractmethod\n",
    "\n",
    "\n",
    "class Vehicle(ABC):\n",
    "    def __init__(self, brand: str, model: str, mileage: float) -> None:\n",
    "        self._brand = brand\n",
    "        self._model = model\n",
    "        self._mileage = max(0, mileage)  # Ensuring mileage is non-negative\n",
    "        self._engine_running = False\n",
    "        print(f\"{self._brand} {self._model} vehicle initialized with {self._mileage} km mileage.\")\n",
    "\n",
    "    @property\n",
    "    def brand(self)-> str:\n",
    "        return self._brand\n",
    "\n",
    "    @property\n",
    "    def model(self)->str:\n",
    "        return self._model\n",
    "\n",
    "    @property\n",
    "    def mileage(self) -> float:\n",
    "        return self._mileage\n",
    "\n",
    "    @abstractmethod\n",
    "    def start_engine(self) -> None:\n",
    "        pass\n",
    "\n",
    "    @abstractmethod\n",
    "    def stop_engine(self) -> None:\n",
    "        pass\n",
    "\n",
    "class Car(Vehicle):\n",
    "    def __init__(self, brand: str, model: str, mileage: float, fuel_type: str) -> None:\n",
    "        super().__init__(brand, model, mileage)\n",
    "        self._fuel_type = fuel_type\n",
    "\n",
    "    def start_engine(self) -> None:\n",
    "        if not self._engine_running:\n",
    "            self._engine_running = True\n",
    "            print(f\"The {self._brand} {self._model} car's engine is now running.\")\n",
    "        else:\n",
    "            print(f\"The {self._brand} {self._model} car's engine is already running.\")\n",
    "\n",
    "    def stop_engine(self) -> None:\n",
    "        if self._engine_running:\n",
    "            self._engine_running = False\n",
    "            print(f\"The {self._brand} {self._model} car's engine has been turned off.\")\n",
    "        else:\n",
    "            print(f\"The {self._brand} {self._model} car's engine is already off.\")\n",
    "\n",
    "\n",
    "class Bike(Vehicle):\n",
    "    def __init__(self, brand: str, model: str, mileage: float, has_sidecar: bool) -> None:\n",
    "        super().__init__(brand, model, mileage)\n",
    "        self._has_sidecar = has_sidecar\n",
    "\n",
    "    def start_engine(self) -> None:\n",
    "        if not self._engine_running:\n",
    "            self._engine_running = True\n",
    "            print(f\"The {self._brand} {self._model} motorcycle's engine is now running.\")\n",
    "        else:\n",
    "            print(f\"The {self._brand} {self._model} motorcycle's engine is already running.\")\n",
    "\n",
    "    def stop_engine(self) -> None:\n",
    "        if self._engine_running:\n",
    "            self._engine_running = False\n",
    "            print(f\"The {self._brand} {self._model} motorcycle's engine has been turned off.\")\n",
    "        else:\n",
    "            print(f\"The {self._brand} {self._model} motorcycle's engine is already off.\")\n",
    "\n",
    "car = Car(\"Toyota\", \"Camry\", 50000, \"Petrol\")\n",
    "motorcycle = Bike(\"Harley-Davidson\", \"Street 750\", 15000, False)\n",
    "\n",
    "print(\"\\nStarting Vehicles...\\n\")\n",
    "car.start_engine()\n",
    "motorcycle.start_engine()\n",
    "\n",
    "print(\"\\nStopping Vehicles...\\n\")\n",
    "car.stop_engine()\n",
    "motorcycle.stop_engine()"
   ]
  },
  {
   "cell_type": "code",
   "execution_count": 8,
   "metadata": {},
   "outputs": [
    {
     "name": "stdout",
     "output_type": "stream",
     "text": [
      "50000\n",
      "40000\n"
     ]
    }
   ],
   "source": [
    "from abc import ABC, abstractmethod\n",
    "\n",
    "class Employee(ABC):\n",
    "    @abstractmethod\n",
    "    def calculate_monthly_pay(self) :\n",
    "        pass\n",
    "\n",
    "class FullTimeEmployee(Employee):\n",
    "    def calculate_monthly_pay(self):\n",
    "        return 50000\n",
    "    \n",
    "class PartTimeEmployee(Employee):\n",
    "    def calculate_monthly_pay(self):\n",
    "        return 40000\n",
    "    \n",
    "ft_employee = FullTimeEmployee()\n",
    "pt_employee = PartTimeEmployee()\n",
    "\n",
    "print(ft_employee.calculate_monthly_pay())\n",
    "print(pt_employee.calculate_monthly_pay())"
   ]
  },
  {
   "cell_type": "markdown",
   "metadata": {},
   "source": [
    "# Polymorphism\n",
    "\n",
    "**Polymorphism** means *many forms* and allows objects of different classes to be treated as objects of a common superclass. It enables a single interface to be used with different underlying implementations.\n",
    "\n",
    "- Method Overloading\n",
    "- Method Overriding\n",
    "- Operator Overloading\n",
    "- Duck Typing"
   ]
  },
  {
   "cell_type": "code",
   "execution_count": 10,
   "metadata": {},
   "outputs": [
    {
     "name": "stdout",
     "output_type": "stream",
     "text": [
      "Dog: Bow! Bow! | The dog runs on four legs.\n",
      "Cat: Meow! Meow! | The cat gracefully jumps.\n",
      "Animal: Some generic animal sound | This animal moves in some way\n"
     ]
    }
   ],
   "source": [
    "class Animal:\n",
    "    def make_sound(self) -> str:\n",
    "        return \"Some generic animal sound\"\n",
    "\n",
    "    def move(self) -> str:\n",
    "        return \"This animal moves in some way\"\n",
    "\n",
    "class Dog(Animal):\n",
    "    def make_sound(self) -> str:\n",
    "        return \"Bow! Bow!\"\n",
    "\n",
    "    def move(self):\n",
    "        return \"The dog runs on four legs.\"\n",
    "\n",
    "class Cat(Animal):\n",
    "    def make_sound(self):\n",
    "        return \"Meow! Meow!\"\n",
    "\n",
    "    def move(self):\n",
    "        return \"The cat gracefully jumps.\"\n",
    "\n",
    "animals = [Dog(), Cat(), Animal()]\n",
    "\n",
    "for animal in animals:\n",
    "    print(f\"{animal.__class__.__name__}: {animal.make_sound()} | {animal.move()}\")"
   ]
  },
  {
   "cell_type": "code",
   "execution_count": 12,
   "metadata": {},
   "outputs": [
    {
     "name": "stdout",
     "output_type": "stream",
     "text": [
      "Toyota is driving on the road\n",
      "Toyota is refueling on the road\n",
      "-----------------\n",
      "Boeing is flying\n",
      "Boeing is refueling in the air\n",
      "-----------------\n",
      "Generic is driving\n",
      "Generic is refueling\n",
      "-----------------\n"
     ]
    }
   ],
   "source": [
    "class Vehicle:\n",
    "    def __init__(self, name, color):\n",
    "        self.name = name\n",
    "        self.color = color\n",
    "\n",
    "    def drive(self):\n",
    "        print(f\"{self.name} is driving\")\n",
    "\n",
    "    def refuel(self):\n",
    "        print(f\"{self.name} is refueling\")\n",
    "\n",
    "class Car(Vehicle):\n",
    "    def drive(self):\n",
    "        print(f\"{self.name} is driving on the road\")\n",
    "\n",
    "    def refuel(self):\n",
    "        print(f\"{self.name} is refueling on the road\")\n",
    "\n",
    "class Plane(Vehicle):\n",
    "    def drive(self):\n",
    "        print(f\"{self.name} is flying\")\n",
    "\n",
    "    def refuel(self):\n",
    "        print(f\"{self.name} is refueling in the air\")\n",
    "\n",
    "vehicles = [Car(\"Toyota\", \"Red\"), Plane(\"Boeing\", \"White\"), Vehicle(\"Generic\", \"Black\")]\n",
    "\n",
    "for vehicle in vehicles:\n",
    "    vehicle.drive()\n",
    "    vehicle.refuel()\n",
    "    print(\"-----------------\")"
   ]
  },
  {
   "cell_type": "code",
   "execution_count": 14,
   "metadata": {},
   "outputs": [
    {
     "name": "stdout",
     "output_type": "stream",
     "text": [
      "Area of the shape is 78.53975\n",
      "Area of the shape is 200\n"
     ]
    }
   ],
   "source": [
    "from abc import ABC, abstractmethod\n",
    "\n",
    "class Shape(ABC):\n",
    "    @abstractmethod\n",
    "    def area(self):\n",
    "        pass\n",
    "\n",
    "class Circle(Shape):\n",
    "    def __init__(self, radius: float) -> None:\n",
    "        self.radius = radius\n",
    "\n",
    "    def area(self) -> float:\n",
    "        return 3.14159 * self.radius ** 2\n",
    "    \n",
    "class Rectangle(Shape):\n",
    "    def __init__(self, width: float, height: float) -> None:\n",
    "        self.width = width\n",
    "        self.height = height\n",
    "\n",
    "    def area(self) -> float:\n",
    "        return self.width * self.height\n",
    "    \n",
    "shapes =[Circle(5), Rectangle(10, 20)]\n",
    "for shape in shapes:\n",
    "    print(f\"Area of the shape is {shape.area()}\")"
   ]
  },
  {
   "cell_type": "code",
   "execution_count": null,
   "metadata": {},
   "outputs": [],
   "source": []
  }
 ],
 "metadata": {
  "kernelspec": {
   "display_name": "Python 3",
   "language": "python",
   "name": "python3"
  },
  "language_info": {
   "codemirror_mode": {
    "name": "ipython",
    "version": 3
   },
   "file_extension": ".py",
   "mimetype": "text/x-python",
   "name": "python",
   "nbconvert_exporter": "python",
   "pygments_lexer": "ipython3",
   "version": "3.12.4"
  }
 },
 "nbformat": 4,
 "nbformat_minor": 2
}
